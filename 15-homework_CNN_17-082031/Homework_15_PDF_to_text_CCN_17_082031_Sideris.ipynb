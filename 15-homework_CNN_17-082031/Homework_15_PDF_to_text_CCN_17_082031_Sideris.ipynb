{
 "cells": [
  {
   "cell_type": "markdown",
   "metadata": {},
   "source": [
    "# A little something\n",
    "### CCN_17-082031"
   ]
  },
  {
   "cell_type": "code",
   "execution_count": 14,
   "metadata": {
    "collapsed": true
   },
   "outputs": [],
   "source": [
    "import re"
   ]
  },
  {
   "cell_type": "code",
   "execution_count": 15,
   "metadata": {},
   "outputs": [],
   "source": [
    "f = open('/Users/sotiris_sideris/Desktop/FOUNDATIONS/CLASS_015/homework/CNN_17-082031/CCN.txt')\n",
    "my_text = f.read()\n",
    "#my_text"
   ]
  },
  {
   "cell_type": "code",
   "execution_count": 16,
   "metadata": {},
   "outputs": [],
   "source": [
    "clean1 = re.sub(\"\\n+\", \" \", my_text)\n",
    "#clean1"
   ]
  },
  {
   "cell_type": "code",
   "execution_count": 17,
   "metadata": {},
   "outputs": [
    {
     "data": {
      "text/plain": [
       "['May 16, 2017 16:01 - May 16, 2017 18:24']"
      ]
     },
     "execution_count": 17,
     "metadata": {},
     "output_type": "execute_result"
    }
   ],
   "source": [
    "my_regex1 = r\"EVENT START DATE / TIME - EVENT END DATE / TIME (.*) WEATHER\"\n",
    "start_end_date_time = re.findall(my_regex1, clean1)\n",
    "start_end_date_time"
   ]
  },
  {
   "cell_type": "code",
   "execution_count": 18,
   "metadata": {},
   "outputs": [
    {
     "data": {
      "text/plain": [
       "['Clear']"
      ]
     },
     "execution_count": 18,
     "metadata": {},
     "output_type": "execute_result"
    }
   ],
   "source": [
    "my_regex2 = r\"WEATHER (.*) REPORT DATE / TIME\"\n",
    "weather = re.findall(my_regex2, clean1)\n",
    "weather"
   ]
  },
  {
   "cell_type": "code",
   "execution_count": 19,
   "metadata": {},
   "outputs": [
    {
     "data": {
      "text/plain": [
       "['May 16, 2017 18:24']"
      ]
     },
     "execution_count": 19,
     "metadata": {},
     "output_type": "execute_result"
    }
   ],
   "source": [
    "my_regex3 = r\"REPORT DATE / TIME (.*) RESPONDING OFFICER\"\n",
    "report_date = re.findall(my_regex3, clean1)\n",
    "report_date"
   ]
  },
  {
   "cell_type": "code",
   "execution_count": 20,
   "metadata": {},
   "outputs": [
    {
     "data": {
      "text/plain": [
       "'On the listed date time and location, RP-1 voiced over the Second district radio channel with a priority call. RP-1 advised a large fight had ensued  during the protest located at the residence of the Turkish embassy. Sub-1 was on of the several victims who was thrown on to the ground and kicked.  Sub-1 identified S-1 as her attacker. S-1 was then apprehended and placed under arrest for Aggravated assault.'"
      ]
     },
     "execution_count": 20,
     "metadata": {},
     "output_type": "execute_result"
    }
   ],
   "source": [
    "my_regex4 = r\"PUBLIC NARRATIVE\"\n",
    "narrative = re.split(my_regex4, clean1)\n",
    "narrative[1].strip()\n",
    "#-----\n",
    "my_regex5 = r\"Printed by BLONESE THOMAS\"\n",
    "narrative_final = re.split(my_regex5, narrative[1])\n",
    "narrative_final[0].strip()"
   ]
  }
 ],
 "metadata": {
  "kernelspec": {
   "display_name": "Python 3",
   "language": "python",
   "name": "python3"
  },
  "language_info": {
   "codemirror_mode": {
    "name": "ipython",
    "version": 3
   },
   "file_extension": ".py",
   "mimetype": "text/x-python",
   "name": "python",
   "nbconvert_exporter": "python",
   "pygments_lexer": "ipython3",
   "version": "3.6.1"
  }
 },
 "nbformat": 4,
 "nbformat_minor": 2
}
