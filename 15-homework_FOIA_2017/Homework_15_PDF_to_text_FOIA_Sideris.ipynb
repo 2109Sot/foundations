{
 "cells": [
  {
   "cell_type": "markdown",
   "metadata": {},
   "source": [
    "# A little something\n",
    "### FOIA_2017"
   ]
  },
  {
   "cell_type": "code",
   "execution_count": 25,
   "metadata": {
    "collapsed": true
   },
   "outputs": [],
   "source": [
    "import re"
   ]
  },
  {
   "cell_type": "code",
   "execution_count": 26,
   "metadata": {},
   "outputs": [],
   "source": [
    "f = open('/Users/sotiris_sideris/Desktop/FOUNDATIONS/CLASS_015/homework/FOIA_2017/FOIA.txt')\n",
    "my_text = f.read()\n",
    "#my_text"
   ]
  },
  {
   "cell_type": "code",
   "execution_count": 33,
   "metadata": {},
   "outputs": [],
   "source": [
    "clean1 = re.sub(\"\\n+\", \" \", my_text)\n",
    "#clean1"
   ]
  },
  {
   "cell_type": "code",
   "execution_count": 34,
   "metadata": {},
   "outputs": [
    {
     "data": {
      "text/plain": [
       "['1625-0008']"
      ]
     },
     "execution_count": 34,
     "metadata": {},
     "output_type": "execute_result"
    }
   ],
   "source": [
    "my_regex1 = r\"OMB Number: (.*)  Expires:\"\n",
    "omb_number = re.findall(my_regex1, clean1)\n",
    "omb_number"
   ]
  },
  {
   "cell_type": "code",
   "execution_count": 35,
   "metadata": {},
   "outputs": [
    {
     "data": {
      "text/plain": [
       "['9/30/2017']"
      ]
     },
     "execution_count": 35,
     "metadata": {},
     "output_type": "execute_result"
    }
   ],
   "source": [
    "my_regex2 = r\"Expires: (.*) Date Submitted:\"\n",
    "exp_date = re.findall(my_regex2, clean1)\n",
    "exp_date"
   ]
  },
  {
   "cell_type": "code",
   "execution_count": 36,
   "metadata": {},
   "outputs": [
    {
     "data": {
      "text/plain": [
       "['10/20/2016']"
      ]
     },
     "execution_count": 36,
     "metadata": {},
     "output_type": "execute_result"
    }
   ],
   "source": [
    "my_regex3 = r\"Date Submitted: (.*)     Tracking\"\n",
    "sub_date = re.findall(my_regex3, clean1)\n",
    "sub_date"
   ]
  },
  {
   "cell_type": "code",
   "execution_count": 37,
   "metadata": {},
   "outputs": [
    {
     "data": {
      "text/plain": [
       "['Hillary Clinton Post Election Celebration']"
      ]
     },
     "execution_count": 37,
     "metadata": {},
     "output_type": "execute_result"
    }
   ],
   "source": [
    "my_regex4 = r\"Name of Event (.*) 3. Location\"\n",
    "event_name = re.findall(my_regex4, clean1)\n",
    "event_name"
   ]
  },
  {
   "cell_type": "code",
   "execution_count": 38,
   "metadata": {},
   "outputs": [
    {
     "data": {
      "text/plain": [
       "['Hudson River at 4045\\'35.5\"N 7400\\'30.9\"W']"
      ]
     },
     "execution_count": 38,
     "metadata": {},
     "output_type": "execute_result"
    }
   ],
   "source": [
    "my_regex5 = r\"3. Location of Event (.*) The barge would\"\n",
    "event_loc = re.findall(my_regex5, clean1)\n",
    "event_loc"
   ]
  }
 ],
 "metadata": {
  "kernelspec": {
   "display_name": "Python 3",
   "language": "python",
   "name": "python3"
  },
  "language_info": {
   "codemirror_mode": {
    "name": "ipython",
    "version": 3
   },
   "file_extension": ".py",
   "mimetype": "text/x-python",
   "name": "python",
   "nbconvert_exporter": "python",
   "pygments_lexer": "ipython3",
   "version": "3.6.1"
  }
 },
 "nbformat": 4,
 "nbformat_minor": 2
}
