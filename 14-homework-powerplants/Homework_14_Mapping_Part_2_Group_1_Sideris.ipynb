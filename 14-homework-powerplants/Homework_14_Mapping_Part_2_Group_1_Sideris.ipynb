{
 "cells": [
  {
   "cell_type": "markdown",
   "metadata": {},
   "source": [
    "## Importing libraries and opening dataframes"
   ]
  },
  {
   "cell_type": "code",
   "execution_count": 2,
   "metadata": {
    "collapsed": true
   },
   "outputs": [],
   "source": [
    "import pandas as pd\n",
    "import geopandas as gpd\n",
    "from shapely.geometry import Point\n",
    "%matplotlib inline"
   ]
  },
  {
   "cell_type": "code",
   "execution_count": 3,
   "metadata": {
    "collapsed": true
   },
   "outputs": [],
   "source": [
    "powerplants = pd.read_csv('powerplants.csv')"
   ]
  },
  {
   "cell_type": "code",
   "execution_count": 4,
   "metadata": {},
   "outputs": [
    {
     "data": {
      "text/html": [
       "<div>\n",
       "<style>\n",
       "    .dataframe thead tr:only-child th {\n",
       "        text-align: right;\n",
       "    }\n",
       "\n",
       "    .dataframe thead th {\n",
       "        text-align: left;\n",
       "    }\n",
       "\n",
       "    .dataframe tbody tr th {\n",
       "        vertical-align: top;\n",
       "    }\n",
       "</style>\n",
       "<table border=\"1\" class=\"dataframe\">\n",
       "  <thead>\n",
       "    <tr style=\"text-align: right;\">\n",
       "      <th></th>\n",
       "      <th>Plant_Code</th>\n",
       "      <th>Plant_Name</th>\n",
       "      <th>Utility_Na</th>\n",
       "      <th>Utility_ID</th>\n",
       "      <th>sector_nam</th>\n",
       "      <th>City</th>\n",
       "      <th>County</th>\n",
       "      <th>Zip</th>\n",
       "      <th>Street_Add</th>\n",
       "      <th>PrimSource</th>\n",
       "      <th>...</th>\n",
       "      <th>Solar_MW</th>\n",
       "      <th>Wind_MW</th>\n",
       "      <th>Geo_MW</th>\n",
       "      <th>Other_MW</th>\n",
       "      <th>source_des</th>\n",
       "      <th>tech_desc</th>\n",
       "      <th>Source</th>\n",
       "      <th>Period</th>\n",
       "      <th>Latitude</th>\n",
       "      <th>Longitude</th>\n",
       "    </tr>\n",
       "  </thead>\n",
       "  <tbody>\n",
       "    <tr>\n",
       "      <th>0</th>\n",
       "      <td>2</td>\n",
       "      <td>Bankhead Dam</td>\n",
       "      <td>Alabama Power Co</td>\n",
       "      <td>195</td>\n",
       "      <td>Electric Utility</td>\n",
       "      <td>Northport</td>\n",
       "      <td>Tuscaloosa</td>\n",
       "      <td>35476</td>\n",
       "      <td>19001 Lock 17 Road</td>\n",
       "      <td>hydroelectric</td>\n",
       "      <td>...</td>\n",
       "      <td>0.0</td>\n",
       "      <td>0.0</td>\n",
       "      <td>NaN</td>\n",
       "      <td>NaN</td>\n",
       "      <td>Hydroelectric = 56 MW</td>\n",
       "      <td>Conventional Hydroelectric</td>\n",
       "      <td>EIA-860, EIA-860M and EIA-923</td>\n",
       "      <td>201607</td>\n",
       "      <td>33.458665</td>\n",
       "      <td>-87.356823</td>\n",
       "    </tr>\n",
       "    <tr>\n",
       "      <th>1</th>\n",
       "      <td>3</td>\n",
       "      <td>Barry</td>\n",
       "      <td>Alabama Power Co</td>\n",
       "      <td>195</td>\n",
       "      <td>Electric Utility</td>\n",
       "      <td>Bucks</td>\n",
       "      <td>Mobile</td>\n",
       "      <td>36512</td>\n",
       "      <td>North Highway 43</td>\n",
       "      <td>coal</td>\n",
       "      <td>...</td>\n",
       "      <td>0.0</td>\n",
       "      <td>0.0</td>\n",
       "      <td>NaN</td>\n",
       "      <td>NaN</td>\n",
       "      <td>Coal = 1088.5 MW, Natural Gas = 1072 MW</td>\n",
       "      <td>Conventional Steam Coal; Natural Gas Fired Com...</td>\n",
       "      <td>EIA-860, EIA-860M and EIA-923</td>\n",
       "      <td>201607</td>\n",
       "      <td>31.006900</td>\n",
       "      <td>-88.010300</td>\n",
       "    </tr>\n",
       "    <tr>\n",
       "      <th>2</th>\n",
       "      <td>4</td>\n",
       "      <td>Walter Bouldin Dam</td>\n",
       "      <td>Alabama Power Co</td>\n",
       "      <td>195</td>\n",
       "      <td>Electric Utility</td>\n",
       "      <td>Wetumpka</td>\n",
       "      <td>Elmore</td>\n",
       "      <td>36092</td>\n",
       "      <td>750 Bouldin Dam Road</td>\n",
       "      <td>hydroelectric</td>\n",
       "      <td>...</td>\n",
       "      <td>0.0</td>\n",
       "      <td>0.0</td>\n",
       "      <td>NaN</td>\n",
       "      <td>NaN</td>\n",
       "      <td>Hydroelectric = 225.9 MW</td>\n",
       "      <td>Conventional Hydroelectric</td>\n",
       "      <td>EIA-860, EIA-860M and EIA-923</td>\n",
       "      <td>201607</td>\n",
       "      <td>32.583889</td>\n",
       "      <td>-86.283056</td>\n",
       "    </tr>\n",
       "    <tr>\n",
       "      <th>3</th>\n",
       "      <td>7</td>\n",
       "      <td>Gadsden</td>\n",
       "      <td>Alabama Power Co</td>\n",
       "      <td>195</td>\n",
       "      <td>Electric Utility</td>\n",
       "      <td>Gadsden</td>\n",
       "      <td>Etowah</td>\n",
       "      <td>35903</td>\n",
       "      <td>1000 Goodyear Ave</td>\n",
       "      <td>natural gas</td>\n",
       "      <td>...</td>\n",
       "      <td>0.0</td>\n",
       "      <td>0.0</td>\n",
       "      <td>NaN</td>\n",
       "      <td>NaN</td>\n",
       "      <td>Natural Gas = 130 MW</td>\n",
       "      <td>Natural Gas Steam Turbine</td>\n",
       "      <td>EIA-860, EIA-860M and EIA-923</td>\n",
       "      <td>201607</td>\n",
       "      <td>34.012800</td>\n",
       "      <td>-85.970800</td>\n",
       "    </tr>\n",
       "    <tr>\n",
       "      <th>4</th>\n",
       "      <td>8</td>\n",
       "      <td>Gorgas</td>\n",
       "      <td>Alabama Power Co</td>\n",
       "      <td>195</td>\n",
       "      <td>Electric Utility</td>\n",
       "      <td>Parrish</td>\n",
       "      <td>Walker</td>\n",
       "      <td>35580</td>\n",
       "      <td>460 Gorgas Road</td>\n",
       "      <td>coal</td>\n",
       "      <td>...</td>\n",
       "      <td>0.0</td>\n",
       "      <td>0.0</td>\n",
       "      <td>NaN</td>\n",
       "      <td>NaN</td>\n",
       "      <td>Coal = 1034 MW</td>\n",
       "      <td>Conventional Steam Coal</td>\n",
       "      <td>EIA-860, EIA-860M and EIA-923</td>\n",
       "      <td>201607</td>\n",
       "      <td>33.644344</td>\n",
       "      <td>-87.196486</td>\n",
       "    </tr>\n",
       "  </tbody>\n",
       "</table>\n",
       "<p>5 rows × 28 columns</p>\n",
       "</div>"
      ],
      "text/plain": [
       "   Plant_Code          Plant_Name        Utility_Na  Utility_ID  \\\n",
       "0           2        Bankhead Dam  Alabama Power Co         195   \n",
       "1           3               Barry  Alabama Power Co         195   \n",
       "2           4  Walter Bouldin Dam  Alabama Power Co         195   \n",
       "3           7             Gadsden  Alabama Power Co         195   \n",
       "4           8              Gorgas  Alabama Power Co         195   \n",
       "\n",
       "         sector_nam       City      County    Zip            Street_Add  \\\n",
       "0  Electric Utility  Northport  Tuscaloosa  35476    19001 Lock 17 Road   \n",
       "1  Electric Utility      Bucks      Mobile  36512      North Highway 43   \n",
       "2  Electric Utility   Wetumpka      Elmore  36092  750 Bouldin Dam Road   \n",
       "3  Electric Utility    Gadsden      Etowah  35903     1000 Goodyear Ave   \n",
       "4  Electric Utility    Parrish      Walker  35580       460 Gorgas Road   \n",
       "\n",
       "      PrimSource    ...      Solar_MW  Wind_MW  Geo_MW  Other_MW  \\\n",
       "0  hydroelectric    ...           0.0      0.0     NaN       NaN   \n",
       "1           coal    ...           0.0      0.0     NaN       NaN   \n",
       "2  hydroelectric    ...           0.0      0.0     NaN       NaN   \n",
       "3    natural gas    ...           0.0      0.0     NaN       NaN   \n",
       "4           coal    ...           0.0      0.0     NaN       NaN   \n",
       "\n",
       "                                source_des  \\\n",
       "0                    Hydroelectric = 56 MW   \n",
       "1  Coal = 1088.5 MW, Natural Gas = 1072 MW   \n",
       "2                 Hydroelectric = 225.9 MW   \n",
       "3                     Natural Gas = 130 MW   \n",
       "4                           Coal = 1034 MW   \n",
       "\n",
       "                                           tech_desc  \\\n",
       "0                         Conventional Hydroelectric   \n",
       "1  Conventional Steam Coal; Natural Gas Fired Com...   \n",
       "2                         Conventional Hydroelectric   \n",
       "3                          Natural Gas Steam Turbine   \n",
       "4                            Conventional Steam Coal   \n",
       "\n",
       "                          Source  Period   Latitude  Longitude  \n",
       "0  EIA-860, EIA-860M and EIA-923  201607  33.458665 -87.356823  \n",
       "1  EIA-860, EIA-860M and EIA-923  201607  31.006900 -88.010300  \n",
       "2  EIA-860, EIA-860M and EIA-923  201607  32.583889 -86.283056  \n",
       "3  EIA-860, EIA-860M and EIA-923  201607  34.012800 -85.970800  \n",
       "4  EIA-860, EIA-860M and EIA-923  201607  33.644344 -87.196486  \n",
       "\n",
       "[5 rows x 28 columns]"
      ]
     },
     "execution_count": 4,
     "metadata": {},
     "output_type": "execute_result"
    }
   ],
   "source": [
    "powerplants.head()"
   ]
  },
  {
   "cell_type": "code",
   "execution_count": 5,
   "metadata": {},
   "outputs": [
    {
     "data": {
      "text/plain": [
       "(7610, 28)"
      ]
     },
     "execution_count": 5,
     "metadata": {},
     "output_type": "execute_result"
    }
   ],
   "source": [
    "powerplants.shape"
   ]
  },
  {
   "cell_type": "code",
   "execution_count": 6,
   "metadata": {},
   "outputs": [
    {
     "data": {
      "text/plain": [
       "Plant_Code      int64\n",
       "Plant_Name     object\n",
       "Utility_Na     object\n",
       "Utility_ID      int64\n",
       "sector_nam     object\n",
       "City           object\n",
       "County         object\n",
       "Zip             int64\n",
       "Street_Add     object\n",
       "PrimSource     object\n",
       "Total_MW      float64\n",
       "Coal_MW       float64\n",
       "NG_MW         float64\n",
       "Crude_MW      float64\n",
       "Bio_MW        float64\n",
       "Hydro_MW      float64\n",
       "HydroPS_MW    float64\n",
       "Nuclear_MW    float64\n",
       "Solar_MW      float64\n",
       "Wind_MW       float64\n",
       "Geo_MW        float64\n",
       "Other_MW      float64\n",
       "source_des     object\n",
       "tech_desc      object\n",
       "Source         object\n",
       "Period          int64\n",
       "Latitude      float64\n",
       "Longitude     float64\n",
       "dtype: object"
      ]
     },
     "execution_count": 6,
     "metadata": {},
     "output_type": "execute_result"
    }
   ],
   "source": [
    "powerplants.dtypes"
   ]
  },
  {
   "cell_type": "code",
   "execution_count": 7,
   "metadata": {},
   "outputs": [
    {
     "data": {
      "text/html": [
       "<div>\n",
       "<style>\n",
       "    .dataframe thead tr:only-child th {\n",
       "        text-align: right;\n",
       "    }\n",
       "\n",
       "    .dataframe thead th {\n",
       "        text-align: left;\n",
       "    }\n",
       "\n",
       "    .dataframe tbody tr th {\n",
       "        vertical-align: top;\n",
       "    }\n",
       "</style>\n",
       "<table border=\"1\" class=\"dataframe\">\n",
       "  <thead>\n",
       "    <tr style=\"text-align: right;\">\n",
       "      <th></th>\n",
       "      <th>AFFGEOID</th>\n",
       "      <th>ALAND</th>\n",
       "      <th>AWATER</th>\n",
       "      <th>GEOID</th>\n",
       "      <th>LSAD</th>\n",
       "      <th>NAME</th>\n",
       "      <th>STATEFP</th>\n",
       "      <th>STATENS</th>\n",
       "      <th>STUSPS</th>\n",
       "      <th>geometry</th>\n",
       "    </tr>\n",
       "  </thead>\n",
       "  <tbody>\n",
       "    <tr>\n",
       "      <th>0</th>\n",
       "      <td>0400000US01</td>\n",
       "      <td>131173688951</td>\n",
       "      <td>4593686489</td>\n",
       "      <td>01</td>\n",
       "      <td>00</td>\n",
       "      <td>Alabama</td>\n",
       "      <td>01</td>\n",
       "      <td>01779775</td>\n",
       "      <td>AL</td>\n",
       "      <td>(POLYGON ((-88.053375 30.506987, -88.051087999...</td>\n",
       "    </tr>\n",
       "    <tr>\n",
       "      <th>1</th>\n",
       "      <td>0400000US02</td>\n",
       "      <td>1477946266785</td>\n",
       "      <td>245390495931</td>\n",
       "      <td>02</td>\n",
       "      <td>00</td>\n",
       "      <td>Alaska</td>\n",
       "      <td>02</td>\n",
       "      <td>01785533</td>\n",
       "      <td>AK</td>\n",
       "      <td>(POLYGON ((-134.737262 58.261354, -134.73441 5...</td>\n",
       "    </tr>\n",
       "    <tr>\n",
       "      <th>2</th>\n",
       "      <td>0400000US04</td>\n",
       "      <td>294198560125</td>\n",
       "      <td>1027346486</td>\n",
       "      <td>04</td>\n",
       "      <td>00</td>\n",
       "      <td>Arizona</td>\n",
       "      <td>04</td>\n",
       "      <td>01779777</td>\n",
       "      <td>AZ</td>\n",
       "      <td>POLYGON ((-114.816294 32.508038, -114.814321 3...</td>\n",
       "    </tr>\n",
       "    <tr>\n",
       "      <th>3</th>\n",
       "      <td>0400000US05</td>\n",
       "      <td>134771517596</td>\n",
       "      <td>2960191698</td>\n",
       "      <td>05</td>\n",
       "      <td>00</td>\n",
       "      <td>Arkansas</td>\n",
       "      <td>05</td>\n",
       "      <td>00068085</td>\n",
       "      <td>AR</td>\n",
       "      <td>POLYGON ((-94.6178329666013 36.4994141203285, ...</td>\n",
       "    </tr>\n",
       "    <tr>\n",
       "      <th>4</th>\n",
       "      <td>0400000US06</td>\n",
       "      <td>403501101370</td>\n",
       "      <td>20466718403</td>\n",
       "      <td>06</td>\n",
       "      <td>00</td>\n",
       "      <td>California</td>\n",
       "      <td>06</td>\n",
       "      <td>01779778</td>\n",
       "      <td>CA</td>\n",
       "      <td>(POLYGON ((-118.604415 33.478552, -118.598783 ...</td>\n",
       "    </tr>\n",
       "  </tbody>\n",
       "</table>\n",
       "</div>"
      ],
      "text/plain": [
       "      AFFGEOID          ALAND        AWATER GEOID LSAD        NAME STATEFP  \\\n",
       "0  0400000US01   131173688951    4593686489    01   00     Alabama      01   \n",
       "1  0400000US02  1477946266785  245390495931    02   00      Alaska      02   \n",
       "2  0400000US04   294198560125    1027346486    04   00     Arizona      04   \n",
       "3  0400000US05   134771517596    2960191698    05   00    Arkansas      05   \n",
       "4  0400000US06   403501101370   20466718403    06   00  California      06   \n",
       "\n",
       "    STATENS STUSPS                                           geometry  \n",
       "0  01779775     AL  (POLYGON ((-88.053375 30.506987, -88.051087999...  \n",
       "1  01785533     AK  (POLYGON ((-134.737262 58.261354, -134.73441 5...  \n",
       "2  01779777     AZ  POLYGON ((-114.816294 32.508038, -114.814321 3...  \n",
       "3  00068085     AR  POLYGON ((-94.6178329666013 36.4994141203285, ...  \n",
       "4  01779778     CA  (POLYGON ((-118.604415 33.478552, -118.598783 ...  "
      ]
     },
     "execution_count": 7,
     "metadata": {},
     "output_type": "execute_result"
    }
   ],
   "source": [
    "states = gpd.read_file(\"/Users/sotiris_sideris/Desktop/FOUNDATIONS/CLASS_013/homework/13-homework/cb_2016_us_state_500k/cb_2016_us_state_500k.shp\")\n",
    "states.head()"
   ]
  },
  {
   "cell_type": "code",
   "execution_count": 8,
   "metadata": {},
   "outputs": [
    {
     "data": {
      "text/html": [
       "<div>\n",
       "<style>\n",
       "    .dataframe thead tr:only-child th {\n",
       "        text-align: right;\n",
       "    }\n",
       "\n",
       "    .dataframe thead th {\n",
       "        text-align: left;\n",
       "    }\n",
       "\n",
       "    .dataframe tbody tr th {\n",
       "        vertical-align: top;\n",
       "    }\n",
       "</style>\n",
       "<table border=\"1\" class=\"dataframe\">\n",
       "  <thead>\n",
       "    <tr style=\"text-align: right;\">\n",
       "      <th></th>\n",
       "      <th>Plant_Code</th>\n",
       "      <th>Plant_Name</th>\n",
       "      <th>Utility_Na</th>\n",
       "      <th>Utility_ID</th>\n",
       "      <th>sector_nam</th>\n",
       "      <th>City</th>\n",
       "      <th>County</th>\n",
       "      <th>Zip</th>\n",
       "      <th>Street_Add</th>\n",
       "      <th>PrimSource</th>\n",
       "      <th>...</th>\n",
       "      <th>Wind_MW</th>\n",
       "      <th>Geo_MW</th>\n",
       "      <th>Other_MW</th>\n",
       "      <th>source_des</th>\n",
       "      <th>tech_desc</th>\n",
       "      <th>Source</th>\n",
       "      <th>Period</th>\n",
       "      <th>Latitude</th>\n",
       "      <th>Longitude</th>\n",
       "      <th>geometry</th>\n",
       "    </tr>\n",
       "  </thead>\n",
       "  <tbody>\n",
       "    <tr>\n",
       "      <th>0</th>\n",
       "      <td>2</td>\n",
       "      <td>Bankhead Dam</td>\n",
       "      <td>Alabama Power Co</td>\n",
       "      <td>195</td>\n",
       "      <td>Electric Utility</td>\n",
       "      <td>Northport</td>\n",
       "      <td>Tuscaloosa</td>\n",
       "      <td>35476</td>\n",
       "      <td>19001 Lock 17 Road</td>\n",
       "      <td>hydroelectric</td>\n",
       "      <td>...</td>\n",
       "      <td>0.0</td>\n",
       "      <td>NaN</td>\n",
       "      <td>NaN</td>\n",
       "      <td>Hydroelectric = 56 MW</td>\n",
       "      <td>Conventional Hydroelectric</td>\n",
       "      <td>EIA-860, EIA-860M and EIA-923</td>\n",
       "      <td>201607</td>\n",
       "      <td>33.458665</td>\n",
       "      <td>-87.356823</td>\n",
       "      <td>POINT (-87.35682299999999 33.458665)</td>\n",
       "    </tr>\n",
       "    <tr>\n",
       "      <th>1</th>\n",
       "      <td>3</td>\n",
       "      <td>Barry</td>\n",
       "      <td>Alabama Power Co</td>\n",
       "      <td>195</td>\n",
       "      <td>Electric Utility</td>\n",
       "      <td>Bucks</td>\n",
       "      <td>Mobile</td>\n",
       "      <td>36512</td>\n",
       "      <td>North Highway 43</td>\n",
       "      <td>coal</td>\n",
       "      <td>...</td>\n",
       "      <td>0.0</td>\n",
       "      <td>NaN</td>\n",
       "      <td>NaN</td>\n",
       "      <td>Coal = 1088.5 MW, Natural Gas = 1072 MW</td>\n",
       "      <td>Conventional Steam Coal; Natural Gas Fired Com...</td>\n",
       "      <td>EIA-860, EIA-860M and EIA-923</td>\n",
       "      <td>201607</td>\n",
       "      <td>31.006900</td>\n",
       "      <td>-88.010300</td>\n",
       "      <td>POINT (-88.0103 31.0069)</td>\n",
       "    </tr>\n",
       "  </tbody>\n",
       "</table>\n",
       "<p>2 rows × 29 columns</p>\n",
       "</div>"
      ],
      "text/plain": [
       "   Plant_Code    Plant_Name        Utility_Na  Utility_ID        sector_nam  \\\n",
       "0           2  Bankhead Dam  Alabama Power Co         195  Electric Utility   \n",
       "1           3         Barry  Alabama Power Co         195  Electric Utility   \n",
       "\n",
       "        City      County    Zip          Street_Add     PrimSource  \\\n",
       "0  Northport  Tuscaloosa  35476  19001 Lock 17 Road  hydroelectric   \n",
       "1      Bucks      Mobile  36512    North Highway 43           coal   \n",
       "\n",
       "                   ...                   Wind_MW  Geo_MW  Other_MW  \\\n",
       "0                  ...                       0.0     NaN       NaN   \n",
       "1                  ...                       0.0     NaN       NaN   \n",
       "\n",
       "                                source_des  \\\n",
       "0                    Hydroelectric = 56 MW   \n",
       "1  Coal = 1088.5 MW, Natural Gas = 1072 MW   \n",
       "\n",
       "                                           tech_desc  \\\n",
       "0                         Conventional Hydroelectric   \n",
       "1  Conventional Steam Coal; Natural Gas Fired Com...   \n",
       "\n",
       "                          Source  Period   Latitude  Longitude  \\\n",
       "0  EIA-860, EIA-860M and EIA-923  201607  33.458665 -87.356823   \n",
       "1  EIA-860, EIA-860M and EIA-923  201607  31.006900 -88.010300   \n",
       "\n",
       "                               geometry  \n",
       "0  POINT (-87.35682299999999 33.458665)  \n",
       "1              POINT (-88.0103 31.0069)  \n",
       "\n",
       "[2 rows x 29 columns]"
      ]
     },
     "execution_count": 8,
     "metadata": {},
     "output_type": "execute_result"
    }
   ],
   "source": [
    "def make_point(row):\n",
    "    return Point(row.Longitude, row.Latitude)\n",
    "\n",
    "points = powerplants.apply(make_point, axis=1)\n",
    "powerplants = gpd.GeoDataFrame(powerplants, geometry=points)\n",
    "powerplants.crs = {'init': 'epsg:4326'}\n",
    "powerplants.head(2)"
   ]
  },
  {
   "cell_type": "code",
   "execution_count": 9,
   "metadata": {},
   "outputs": [
    {
     "data": {
      "text/plain": [
       "<matplotlib.axes._subplots.AxesSubplot at 0x115677160>"
      ]
     },
     "execution_count": 9,
     "metadata": {},
     "output_type": "execute_result"
    },
    {
     "data": {
      "image/png": "[encoded data removed]",
      "text/plain": [
       "<matplotlib.figure.Figure at 0x1100a80f0>"
      ]
     },
     "metadata": {},
     "output_type": "display_data"
    }
   ],
   "source": [
    "powerplants.plot()"
   ]
  },
  {
   "cell_type": "code",
   "execution_count": 10,
   "metadata": {},
   "outputs": [
    {
     "data": {
      "text/plain": [
       "0     True\n",
       "1    False\n",
       "2    False\n",
       "3    False\n",
       "4    False\n",
       "dtype: bool"
      ]
     },
     "execution_count": 10,
     "metadata": {},
     "output_type": "execute_result"
    }
   ],
   "source": [
    "states.to_crs({'init': 'epsg:4326'}).intersects(powerplants).head()"
   ]
  },
  {
   "cell_type": "markdown",
   "metadata": {},
   "source": [
    "## 1. Make a map of power plants in the US, color coded by type"
   ]
  },
  {
   "cell_type": "code",
   "execution_count": 11,
   "metadata": {},
   "outputs": [
    {
     "data": {
      "text/plain": [
       "(-197.09527795, 197.72483894999999, -18.84439205, 75.660855049999995)"
      ]
     },
     "execution_count": 11,
     "metadata": {},
     "output_type": "execute_result"
    },
    {
     "data": {
      "image/png": "[encoded data removed]",
      "text/plain": [
       "<matplotlib.figure.Figure at 0x11f66b7f0>"
      ]
     },
     "metadata": {},
     "output_type": "display_data"
    }
   ],
   "source": [
    "ax = states.plot(figsize=(20,20), color='lightgrey', linewidth=0.25, edgecolor='white')\n",
    "powerplants.plot(markeredgewidth=0, markersize=3, ax=ax)\n",
    "ax.axis('off')"
   ]
  },
  {
   "cell_type": "markdown",
   "metadata": {},
   "source": [
    "## 2. Make a map of air quality stations, color coded by average air quality"
   ]
  },
  {
   "cell_type": "code",
   "execution_count": 12,
   "metadata": {},
   "outputs": [
    {
     "data": {
      "text/html": [
       "<div>\n",
       "<style>\n",
       "    .dataframe thead tr:only-child th {\n",
       "        text-align: right;\n",
       "    }\n",
       "\n",
       "    .dataframe thead th {\n",
       "        text-align: left;\n",
       "    }\n",
       "\n",
       "    .dataframe tbody tr th {\n",
       "        vertical-align: top;\n",
       "    }\n",
       "</style>\n",
       "<table border=\"1\" class=\"dataframe\">\n",
       "  <thead>\n",
       "    <tr style=\"text-align: right;\">\n",
       "      <th></th>\n",
       "      <th>State Code</th>\n",
       "      <th>County Code</th>\n",
       "      <th>Site Num</th>\n",
       "      <th>Parameter Code</th>\n",
       "      <th>POC</th>\n",
       "      <th>Latitude</th>\n",
       "      <th>Longitude</th>\n",
       "      <th>Datum</th>\n",
       "      <th>Parameter Name</th>\n",
       "      <th>Sample Duration</th>\n",
       "      <th>...</th>\n",
       "      <th>75th Percentile</th>\n",
       "      <th>50th Percentile</th>\n",
       "      <th>10th Percentile</th>\n",
       "      <th>Local Site Name</th>\n",
       "      <th>Address</th>\n",
       "      <th>State Name</th>\n",
       "      <th>County Name</th>\n",
       "      <th>City Name</th>\n",
       "      <th>CBSA Name</th>\n",
       "      <th>Date of Last Change</th>\n",
       "    </tr>\n",
       "  </thead>\n",
       "  <tbody>\n",
       "    <tr>\n",
       "      <th>0</th>\n",
       "      <td>1</td>\n",
       "      <td>3</td>\n",
       "      <td>10</td>\n",
       "      <td>88101</td>\n",
       "      <td>1</td>\n",
       "      <td>30.497478</td>\n",
       "      <td>-87.880258</td>\n",
       "      <td>NAD83</td>\n",
       "      <td>PM2.5 - Local Conditions</td>\n",
       "      <td>24 HOUR</td>\n",
       "      <td>...</td>\n",
       "      <td>8.0</td>\n",
       "      <td>5.7</td>\n",
       "      <td>3.8</td>\n",
       "      <td>FAIRHOPE, Alabama</td>\n",
       "      <td>FAIRHOPE HIGH SCHOOL, 1 PIRATE DRIVE, FAIRHOPE...</td>\n",
       "      <td>Alabama</td>\n",
       "      <td>Baldwin</td>\n",
       "      <td>Fairhope</td>\n",
       "      <td>Daphne-Fairhope-Foley, AL</td>\n",
       "      <td>2017-05-18</td>\n",
       "    </tr>\n",
       "    <tr>\n",
       "      <th>1</th>\n",
       "      <td>1</td>\n",
       "      <td>27</td>\n",
       "      <td>1</td>\n",
       "      <td>88101</td>\n",
       "      <td>1</td>\n",
       "      <td>33.284928</td>\n",
       "      <td>-85.803608</td>\n",
       "      <td>NAD83</td>\n",
       "      <td>PM2.5 - Local Conditions</td>\n",
       "      <td>24 HOUR</td>\n",
       "      <td>...</td>\n",
       "      <td>12.4</td>\n",
       "      <td>8.7</td>\n",
       "      <td>2.9</td>\n",
       "      <td>ASHLAND</td>\n",
       "      <td>ASHLAND AIRPORT</td>\n",
       "      <td>Alabama</td>\n",
       "      <td>Clay</td>\n",
       "      <td>Ashland</td>\n",
       "      <td>NaN</td>\n",
       "      <td>2017-05-18</td>\n",
       "    </tr>\n",
       "  </tbody>\n",
       "</table>\n",
       "<p>2 rows × 55 columns</p>\n",
       "</div>"
      ],
      "text/plain": [
       "   State Code  County Code  Site Num  Parameter Code  POC   Latitude  \\\n",
       "0           1            3        10           88101    1  30.497478   \n",
       "1           1           27         1           88101    1  33.284928   \n",
       "\n",
       "   Longitude  Datum            Parameter Name Sample Duration  \\\n",
       "0 -87.880258  NAD83  PM2.5 - Local Conditions         24 HOUR   \n",
       "1 -85.803608  NAD83  PM2.5 - Local Conditions         24 HOUR   \n",
       "\n",
       "          ...          75th Percentile 50th Percentile 10th Percentile  \\\n",
       "0         ...                      8.0             5.7             3.8   \n",
       "1         ...                     12.4             8.7             2.9   \n",
       "\n",
       "     Local Site Name                                            Address  \\\n",
       "0  FAIRHOPE, Alabama  FAIRHOPE HIGH SCHOOL, 1 PIRATE DRIVE, FAIRHOPE...   \n",
       "1            ASHLAND                                    ASHLAND AIRPORT   \n",
       "\n",
       "  State Name  County Name  City Name                  CBSA Name  \\\n",
       "0    Alabama      Baldwin   Fairhope  Daphne-Fairhope-Foley, AL   \n",
       "1    Alabama         Clay    Ashland                        NaN   \n",
       "\n",
       "   Date of Last Change  \n",
       "0           2017-05-18  \n",
       "1           2017-05-18  \n",
       "\n",
       "[2 rows x 55 columns]"
      ]
     },
     "execution_count": 12,
     "metadata": {},
     "output_type": "execute_result"
    }
   ],
   "source": [
    "air_quality_stations = pd.read_csv('pm25_annual_fixed.csv')\n",
    "air_quality_stations.head(2)"
   ]
  },
  {
   "cell_type": "code",
   "execution_count": 13,
   "metadata": {},
   "outputs": [
    {
     "data": {
      "text/plain": [
       "(441, 55)"
      ]
     },
     "execution_count": 13,
     "metadata": {},
     "output_type": "execute_result"
    }
   ],
   "source": [
    "air_quality_stations.shape"
   ]
  },
  {
   "cell_type": "code",
   "execution_count": 14,
   "metadata": {},
   "outputs": [
    {
     "data": {
      "text/plain": [
       "State Code                         int64\n",
       "County Code                        int64\n",
       "Site Num                           int64\n",
       "Parameter Code                     int64\n",
       "POC                                int64\n",
       "Latitude                         float64\n",
       "Longitude                        float64\n",
       "Datum                             object\n",
       "Parameter Name                    object\n",
       "Sample Duration                   object\n",
       "Pollutant Standard                object\n",
       "Metric Used                       object\n",
       "Method Name                       object\n",
       "Year                               int64\n",
       "Units of Measure                  object\n",
       "Event Type                        object\n",
       "Observation Count                  int64\n",
       "Observation Percent                int64\n",
       "Completeness Indicator            object\n",
       "Valid Day Count                    int64\n",
       "Required Day Count                 int64\n",
       "Exceptional Data Count             int64\n",
       "Null Data Count                    int64\n",
       "Primary Exceedance Count         float64\n",
       "Secondary Exceedance Count       float64\n",
       "Certification Indicator           object\n",
       "Num Obs Below MDL                  int64\n",
       "Arithmetic Mean                  float64\n",
       "Arithmetic Standard Dev          float64\n",
       "1st Max Value                    float64\n",
       "1st Max DateTime                  object\n",
       "2nd Max Value                    float64\n",
       "2nd Max DateTime                  object\n",
       "3rd Max Value                    float64\n",
       "3rd Max DateTime                  object\n",
       "4th Max Value                    float64\n",
       "4th Max DateTime                  object\n",
       "1st Max Non Overlapping Value    float64\n",
       "1st NO Max DateTime              float64\n",
       "2nd Max Non Overlapping Value    float64\n",
       "2nd NO Max DateTime              float64\n",
       "99th Percentile                  float64\n",
       "98th Percentile                  float64\n",
       "95th Percentile                  float64\n",
       "90th Percentile                  float64\n",
       "75th Percentile                  float64\n",
       "50th Percentile                  float64\n",
       "10th Percentile                  float64\n",
       "Local Site Name                   object\n",
       "Address                           object\n",
       "State Name                        object\n",
       "County Name                       object\n",
       "City Name                         object\n",
       "CBSA Name                         object\n",
       "Date of Last Change               object\n",
       "dtype: object"
      ]
     },
     "execution_count": 14,
     "metadata": {},
     "output_type": "execute_result"
    }
   ],
   "source": [
    "air_quality_stations.dtypes"
   ]
  },
  {
   "cell_type": "code",
   "execution_count": 15,
   "metadata": {},
   "outputs": [
    {
     "data": {
      "text/html": [
       "<div>\n",
       "<style>\n",
       "    .dataframe thead tr:only-child th {\n",
       "        text-align: right;\n",
       "    }\n",
       "\n",
       "    .dataframe thead th {\n",
       "        text-align: left;\n",
       "    }\n",
       "\n",
       "    .dataframe tbody tr th {\n",
       "        vertical-align: top;\n",
       "    }\n",
       "</style>\n",
       "<table border=\"1\" class=\"dataframe\">\n",
       "  <thead>\n",
       "    <tr style=\"text-align: right;\">\n",
       "      <th></th>\n",
       "      <th>State Code</th>\n",
       "      <th>County Code</th>\n",
       "      <th>Site Num</th>\n",
       "      <th>Parameter Code</th>\n",
       "      <th>POC</th>\n",
       "      <th>Latitude</th>\n",
       "      <th>Longitude</th>\n",
       "      <th>Datum</th>\n",
       "      <th>Parameter Name</th>\n",
       "      <th>Sample Duration</th>\n",
       "      <th>...</th>\n",
       "      <th>50th Percentile</th>\n",
       "      <th>10th Percentile</th>\n",
       "      <th>Local Site Name</th>\n",
       "      <th>Address</th>\n",
       "      <th>State Name</th>\n",
       "      <th>County Name</th>\n",
       "      <th>City Name</th>\n",
       "      <th>CBSA Name</th>\n",
       "      <th>Date of Last Change</th>\n",
       "      <th>geometry</th>\n",
       "    </tr>\n",
       "  </thead>\n",
       "  <tbody>\n",
       "    <tr>\n",
       "      <th>0</th>\n",
       "      <td>1</td>\n",
       "      <td>3</td>\n",
       "      <td>10</td>\n",
       "      <td>88101</td>\n",
       "      <td>1</td>\n",
       "      <td>30.497478</td>\n",
       "      <td>-87.880258</td>\n",
       "      <td>NAD83</td>\n",
       "      <td>PM2.5 - Local Conditions</td>\n",
       "      <td>24 HOUR</td>\n",
       "      <td>...</td>\n",
       "      <td>5.7</td>\n",
       "      <td>3.8</td>\n",
       "      <td>FAIRHOPE, Alabama</td>\n",
       "      <td>FAIRHOPE HIGH SCHOOL, 1 PIRATE DRIVE, FAIRHOPE...</td>\n",
       "      <td>Alabama</td>\n",
       "      <td>Baldwin</td>\n",
       "      <td>Fairhope</td>\n",
       "      <td>Daphne-Fairhope-Foley, AL</td>\n",
       "      <td>2017-05-18</td>\n",
       "      <td>POINT (-87.880258 30.497478)</td>\n",
       "    </tr>\n",
       "    <tr>\n",
       "      <th>1</th>\n",
       "      <td>1</td>\n",
       "      <td>27</td>\n",
       "      <td>1</td>\n",
       "      <td>88101</td>\n",
       "      <td>1</td>\n",
       "      <td>33.284928</td>\n",
       "      <td>-85.803608</td>\n",
       "      <td>NAD83</td>\n",
       "      <td>PM2.5 - Local Conditions</td>\n",
       "      <td>24 HOUR</td>\n",
       "      <td>...</td>\n",
       "      <td>8.7</td>\n",
       "      <td>2.9</td>\n",
       "      <td>ASHLAND</td>\n",
       "      <td>ASHLAND AIRPORT</td>\n",
       "      <td>Alabama</td>\n",
       "      <td>Clay</td>\n",
       "      <td>Ashland</td>\n",
       "      <td>NaN</td>\n",
       "      <td>2017-05-18</td>\n",
       "      <td>POINT (-85.803608 33.284928)</td>\n",
       "    </tr>\n",
       "  </tbody>\n",
       "</table>\n",
       "<p>2 rows × 56 columns</p>\n",
       "</div>"
      ],
      "text/plain": [
       "   State Code  County Code  Site Num  Parameter Code  POC   Latitude  \\\n",
       "0           1            3        10           88101    1  30.497478   \n",
       "1           1           27         1           88101    1  33.284928   \n",
       "\n",
       "   Longitude  Datum            Parameter Name Sample Duration  \\\n",
       "0 -87.880258  NAD83  PM2.5 - Local Conditions         24 HOUR   \n",
       "1 -85.803608  NAD83  PM2.5 - Local Conditions         24 HOUR   \n",
       "\n",
       "               ...              50th Percentile 10th Percentile  \\\n",
       "0              ...                          5.7             3.8   \n",
       "1              ...                          8.7             2.9   \n",
       "\n",
       "     Local Site Name                                            Address  \\\n",
       "0  FAIRHOPE, Alabama  FAIRHOPE HIGH SCHOOL, 1 PIRATE DRIVE, FAIRHOPE...   \n",
       "1            ASHLAND                                    ASHLAND AIRPORT   \n",
       "\n",
       "  State Name County Name  City Name                  CBSA Name  \\\n",
       "0    Alabama     Baldwin   Fairhope  Daphne-Fairhope-Foley, AL   \n",
       "1    Alabama        Clay    Ashland                        NaN   \n",
       "\n",
       "  Date of Last Change                      geometry  \n",
       "0          2017-05-18  POINT (-87.880258 30.497478)  \n",
       "1          2017-05-18  POINT (-85.803608 33.284928)  \n",
       "\n",
       "[2 rows x 56 columns]"
      ]
     },
     "execution_count": 15,
     "metadata": {},
     "output_type": "execute_result"
    }
   ],
   "source": [
    "def make_point(row):\n",
    "    return Point(row.Longitude, row.Latitude)\n",
    "\n",
    "points = air_quality_stations.apply(make_point, axis=1)\n",
    "air_quality_stations = gpd.GeoDataFrame(air_quality_stations, geometry=points)\n",
    "air_quality_stations.crs = {'init': 'epsg:4326'}\n",
    "air_quality_stations.head(2)"
   ]
  },
  {
   "cell_type": "code",
   "execution_count": 16,
   "metadata": {},
   "outputs": [
    {
     "data": {
      "text/html": [
       "<div>\n",
       "<style>\n",
       "    .dataframe thead tr:only-child th {\n",
       "        text-align: right;\n",
       "    }\n",
       "\n",
       "    .dataframe thead th {\n",
       "        text-align: left;\n",
       "    }\n",
       "\n",
       "    .dataframe tbody tr th {\n",
       "        vertical-align: top;\n",
       "    }\n",
       "</style>\n",
       "<table border=\"1\" class=\"dataframe\">\n",
       "  <thead>\n",
       "    <tr style=\"text-align: right;\">\n",
       "      <th></th>\n",
       "      <th>AFFGEOID</th>\n",
       "      <th>ALAND</th>\n",
       "      <th>AWATER</th>\n",
       "      <th>GEOID</th>\n",
       "      <th>LSAD</th>\n",
       "      <th>NAME</th>\n",
       "      <th>STATEFP</th>\n",
       "      <th>STATENS</th>\n",
       "      <th>STUSPS</th>\n",
       "      <th>geometry</th>\n",
       "    </tr>\n",
       "  </thead>\n",
       "  <tbody>\n",
       "    <tr>\n",
       "      <th>0</th>\n",
       "      <td>0400000US01</td>\n",
       "      <td>131173688951</td>\n",
       "      <td>4593686489</td>\n",
       "      <td>01</td>\n",
       "      <td>00</td>\n",
       "      <td>Alabama</td>\n",
       "      <td>01</td>\n",
       "      <td>01779775</td>\n",
       "      <td>AL</td>\n",
       "      <td>(POLYGON ((-88.053375 30.506987, -88.051087999...</td>\n",
       "    </tr>\n",
       "    <tr>\n",
       "      <th>1</th>\n",
       "      <td>0400000US02</td>\n",
       "      <td>1477946266785</td>\n",
       "      <td>245390495931</td>\n",
       "      <td>02</td>\n",
       "      <td>00</td>\n",
       "      <td>Alaska</td>\n",
       "      <td>02</td>\n",
       "      <td>01785533</td>\n",
       "      <td>AK</td>\n",
       "      <td>(POLYGON ((-134.737262 58.261354, -134.73441 5...</td>\n",
       "    </tr>\n",
       "  </tbody>\n",
       "</table>\n",
       "</div>"
      ],
      "text/plain": [
       "      AFFGEOID          ALAND        AWATER GEOID LSAD     NAME STATEFP  \\\n",
       "0  0400000US01   131173688951    4593686489    01   00  Alabama      01   \n",
       "1  0400000US02  1477946266785  245390495931    02   00   Alaska      02   \n",
       "\n",
       "    STATENS STUSPS                                           geometry  \n",
       "0  01779775     AL  (POLYGON ((-88.053375 30.506987, -88.051087999...  \n",
       "1  01785533     AK  (POLYGON ((-134.737262 58.261354, -134.73441 5...  "
      ]
     },
     "execution_count": 16,
     "metadata": {},
     "output_type": "execute_result"
    }
   ],
   "source": [
    "states = states.to_crs(air_quality_stations.crs)\n",
    "states.head(2)"
   ]
  },
  {
   "cell_type": "code",
   "execution_count": 17,
   "metadata": {},
   "outputs": [
    {
     "data": {
      "text/plain": [
       "<matplotlib.axes._subplots.AxesSubplot at 0x12bd1f780>"
      ]
     },
     "execution_count": 17,
     "metadata": {},
     "output_type": "execute_result"
    },
    {
     "data": {
      "image/png": "[encoded data removed]",
      "text/plain": [
       "<matplotlib.figure.Figure at 0x12bd16b70>"
      ]
     },
     "metadata": {},
     "output_type": "display_data"
    }
   ],
   "source": [
    "ax = states.plot(figsize=(15,15), color='lightgrey', linewidth=0.25, edgecolor='white')\n",
    "ax.axis('off')\n",
    "air_quality_stations.plot(column= 'Arithmetic Mean', cmap='PuRd', markersize=3, ax=ax)"
   ]
  },
  {
   "cell_type": "markdown",
   "metadata": {},
   "source": [
    "## 3. Make a map of air quality stations, color coded by worst air quality ever \n"
   ]
  },
  {
   "cell_type": "code",
   "execution_count": 18,
   "metadata": {},
   "outputs": [
    {
     "data": {
      "text/plain": [
       "<matplotlib.axes._subplots.AxesSubplot at 0x12f105d30>"
      ]
     },
     "execution_count": 18,
     "metadata": {},
     "output_type": "execute_result"
    },
    {
     "data": {
      "image/png": "[encoded data removed]",
      "text/plain": [
       "<matplotlib.figure.Figure at 0x12bd16a20>"
      ]
     },
     "metadata": {},
     "output_type": "display_data"
    }
   ],
   "source": [
    "ax = states.plot(figsize=(15,15), color='lightgrey', linewidth=0.25, edgecolor='white')\n",
    "ax.axis('off')\n",
    "air_quality_stations.plot(column= '1st Max Value', cmap='Reds', markersize=3, ax=ax)"
   ]
  },
  {
   "cell_type": "markdown",
   "metadata": {},
   "source": [
    "## 5. Map all of the nuclear power plants in red, with the rest of the plants as dark grey."
   ]
  },
  {
   "cell_type": "code",
   "execution_count": 20,
   "metadata": {},
   "outputs": [],
   "source": [
    "nuc = powerplants[(powerplants.PrimSource == 'nuclear')]"
   ]
  },
  {
   "cell_type": "code",
   "execution_count": 21,
   "metadata": {
    "collapsed": true
   },
   "outputs": [],
   "source": [
    "non_nuc = powerplants[~(powerplants.PrimSource == 'nuclear')]"
   ]
  },
  {
   "cell_type": "code",
   "execution_count": 24,
   "metadata": {},
   "outputs": [
    {
     "data": {
      "text/plain": [
       "(-197.09527795, 197.72483894999999, -18.844392050000003, 75.660855050000009)"
      ]
     },
     "execution_count": 24,
     "metadata": {},
     "output_type": "execute_result"
    },
    {
     "data": {
      "image/png": "[encoded data removed]",
      "text/plain": [
       "<matplotlib.figure.Figure at 0x133373b00>"
      ]
     },
     "metadata": {},
     "output_type": "display_data"
    }
   ],
   "source": [
    "ax = states.plot(figsize=(15,15), color='yellow', linewidth=0.25, edgecolor='white')\n",
    "non_nuc.plot(color='darkgrey', ax=ax, markeredgewidth=0, markersize=3)\n",
    "nuc.plot(color='red', ax=ax, markeredgewidth=0, markersize=3)\n",
    "ax.axis('off')"
   ]
  }
 ],
 "metadata": {
  "kernelspec": {
   "display_name": "Python 3",
   "language": "python",
   "name": "python3"
  },
  "language_info": {
   "codemirror_mode": {
    "name": "ipython",
    "version": 3
   },
   "file_extension": ".py",
   "mimetype": "text/x-python",
   "name": "python",
   "nbconvert_exporter": "python",
   "pygments_lexer": "ipython3",
   "version": "3.6.1"
  }
 },
 "nbformat": 4,
 "nbformat_minor": 2
}
